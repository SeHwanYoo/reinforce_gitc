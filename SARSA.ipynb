{
 "cells": [
  {
   "cell_type": "code",
   "execution_count": 11,
   "metadata": {},
   "outputs": [
    {
     "data": {
      "image/png": "[encoded data removed]",
      "text/plain": [
       "<IPython.core.display.Image object>"
      ]
     },
     "execution_count": 11,
     "metadata": {},
     "output_type": "execute_result"
    }
   ],
   "source": [
    "from IPython.display import Image\n",
    "Image('gridworld.png')"
   ]
  },
  {
   "cell_type": "code",
   "execution_count": 12,
   "metadata": {},
   "outputs": [
    {
     "data": {
      "image/png": "[encoded data removed]",
      "text/plain": [
       "<IPython.core.display.Image object>"
      ]
     },
     "execution_count": 12,
     "metadata": {},
     "output_type": "execute_result"
    }
   ],
   "source": [
    "Image('formula.png')"
   ]
  },
  {
   "cell_type": "code",
   "execution_count": 13,
   "metadata": {},
   "outputs": [],
   "source": [
    "import random \n",
    "import numpy as np"
   ]
  },
  {
   "cell_type": "code",
   "execution_count": 14,
   "metadata": {},
   "outputs": [],
   "source": [
    "class GridWorld():\n",
    "    def __init__(self): \n",
    "        self.x = 0 \n",
    "        self.y = 0 \n",
    "        \n",
    "    def step(self, a): \n",
    "        if a == 0:\n",
    "            self.move_left() \n",
    "        elif a ==1: \n",
    "            self.move_up()\n",
    "        elif a ==2: \n",
    "            self.move_right()\n",
    "        elif a ==3: \n",
    "            self.move_down()\n",
    "            \n",
    "        reward = -1 \n",
    "        done = self.is_done() \n",
    "        \n",
    "        return (self.x, self.y), reward, done\n",
    "    \n",
    "    def move_left(self):\n",
    "        if self.y == 0:\n",
    "            pass \n",
    "        elif self.y == 3 and self.x in [0, 1, 2]:\n",
    "            pass \n",
    "        elif self.y == 5 and self.x in [2, 3, 4]:\n",
    "            pass \n",
    "        else:\n",
    "            self.y -= 1\n",
    "    \n",
    "    def move_right(self):\n",
    "        if self.y == 1 and self.x in [0, 1, 2]:\n",
    "            pass \n",
    "        elif self.y == 3 and self.x in [2, 3, 4]:\n",
    "            pass \n",
    "        elif self.y == 6:\n",
    "            pass \n",
    "        else:\n",
    "            self.y += 1\n",
    "    \n",
    "    def move_up(self):\n",
    "        if self.x == 0:\n",
    "            pass \n",
    "        elif self.x == 3 and self.y == 2:\n",
    "            pass \n",
    "        else:\n",
    "            self.x -= 1\n",
    "            \n",
    "    def move_down(self):\n",
    "        if self.x == 4:\n",
    "            pass \n",
    "        elif self.x == 1 and self.y == 4:\n",
    "            pass \n",
    "        else:\n",
    "            self.x += 1\n",
    "            \n",
    "    def is_done(self):\n",
    "        if self.x == 4 and self.y == 6:\n",
    "            return True\n",
    "        else:\n",
    "            return False\n",
    "        \n",
    "    def reset(self):\n",
    "        self.x = 0 \n",
    "        self.y = 0 \n",
    "        \n",
    "        return (self.x, self.y)\n",
    "            \n",
    "    \n",
    "    "
   ]
  },
  {
   "cell_type": "code",
   "execution_count": 15,
   "metadata": {},
   "outputs": [],
   "source": [
    "class QAgent(): \n",
    "    def __init__(self):\n",
    "        self.q_table = np.zeros((5, 7, 4))\n",
    "        self.eps = 0.9 \n",
    "        \n",
    "    def select_action(self, s):\n",
    "        x, y = s\n",
    "        coin = random.random() \n",
    "        \n",
    "        if coin < self.eps:\n",
    "            action = random.randint(0, 3)\n",
    "        else:\n",
    "            action_val = self.q_table[x, y, :]\n",
    "            action = np.argmax(action_val) \n",
    "            \n",
    "        return action\n",
    "    \n",
    "    def update_table(self, hist): \n",
    "        cum_reward = 0 \n",
    "        \n",
    "        # for h in hist[::-1]:\n",
    "        s, a, r, s_prime = hist\n",
    "        x, y = s\n",
    "        next_x, next_y = s_prime\n",
    "        a_prime = self.select_action(s_prime)\n",
    "        \n",
    "        self.q_table[x, y, a] = self.q_table[x, y, a] + 0.1 * (r + self.q_table[next_x, next_y, a_prime] - self.q_table[x, y, a])\n",
    "        cum_reward = cum_reward + r\n",
    "            \n",
    "    def anneal_eps(self): \n",
    "        self.eps -= 0.03 \n",
    "        self.eps = max(self.eps, 0.1)\n",
    "        \n",
    "    def show_table(self): \n",
    "        q_lst = self.q_table.tolist() \n",
    "        data = np.zeros((5, 7))\n",
    "        \n",
    "        for row_idx in range(len(q_lst)):\n",
    "            row = q_lst[row_idx]\n",
    "            \n",
    "            for col_idx in range(len(row)):\n",
    "                col = row[col_idx]\n",
    "                action = np.argmax(col) \n",
    "                data[row_idx, col_idx] = action \n",
    "                \n",
    "        print(data)"
   ]
  },
  {
   "cell_type": "code",
   "execution_count": 19,
   "metadata": {},
   "outputs": [],
   "source": [
    "def main():\n",
    "    env = GridWorld()\n",
    "    agent = QAgent() \n",
    "    \n",
    "    for n_epi in range(1000):\n",
    "        done = False\n",
    "        # history = [] \n",
    "        \n",
    "        s = env.reset() \n",
    "        \n",
    "        while not done:\n",
    "            a = agent.select_action(s) \n",
    "            s_prime, r, done = env.step(a) \n",
    "            agent.update_table((s, a, r, s_prime))\n",
    "            s = s_prime\n",
    "            \n",
    "        agent.anneal_eps()\n",
    "        \n",
    "    agent.show_table()\n",
    "            "
   ]
  },
  {
   "cell_type": "code",
   "execution_count": 20,
   "metadata": {},
   "outputs": [
    {
     "name": "stdout",
     "output_type": "stream",
     "text": [
      "[[2. 3. 0. 2. 2. 3. 3.]\n",
      " [2. 3. 0. 2. 2. 2. 3.]\n",
      " [3. 3. 0. 1. 0. 3. 3.]\n",
      " [2. 2. 2. 1. 0. 3. 3.]\n",
      " [0. 0. 3. 1. 0. 2. 0.]]\n"
     ]
    }
   ],
   "source": [
    "main()"
   ]
  },
  {
   "cell_type": "code",
   "execution_count": null,
   "metadata": {},
   "outputs": [],
   "source": []
  }
 ],
 "metadata": {
  "interpreter": {
   "hash": "2ad7f8df95050390ccef3c53b91cc5366ee05cbbc975f965dd0a4e5b2556ae66"
  },
  "kernelspec": {
   "display_name": "Python 3.9.6 64-bit",
   "language": "python",
   "name": "python3"
  },
  "language_info": {
   "codemirror_mode": {
    "name": "ipython",
    "version": 3
   },
   "file_extension": ".py",
   "mimetype": "text/x-python",
   "name": "python",
   "nbconvert_exporter": "python",
   "pygments_lexer": "ipython3",
   "version": "3.7.11"
  },
  "orig_nbformat": 4
 },
 "nbformat": 4,
 "nbformat_minor": 2
}
