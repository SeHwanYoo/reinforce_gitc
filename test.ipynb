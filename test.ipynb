{
 "cells": [
  {
   "cell_type": "code",
   "execution_count": 11,
   "metadata": {},
   "outputs": [
    {
     "name": "stdout",
     "output_type": "stream",
     "text": [
      "[3, 5]\n"
     ]
    }
   ],
   "source": [
    "lottos = [44, 1, 0, 0, 31, 25]\n",
    "wins = [31, 10, 45, 1, 6, 19]\n",
    "\n",
    "def solution(lottos, win):\n",
    "    rank = {\n",
    "        0 : 6, \n",
    "        1 : 6, \n",
    "        2 : 5, \n",
    "        3 : 4, \n",
    "        4 : 3, \n",
    "        5 : 2,\n",
    "        6 : 1\n",
    "    }\n",
    "\n",
    "    return [rank[len(set(lottos) & set(wins)) + lottos.count(0)], rank[len(set(lottos) & set(wins))]]\n",
    "    # return 0 \n",
    "\n",
    "print(solution(lottos, wins))\n",
    "\n"
   ]
  },
  {
   "cell_type": "code",
   "execution_count": 12,
   "metadata": {},
   "outputs": [
    {
     "name": "stdout",
     "output_type": "stream",
     "text": [
      "{1, 31}\n",
      "2\n"
     ]
    }
   ],
   "source": [
    "print(set(lottos) & set(wins))\n",
    "print(lottos.count(0))\n"
   ]
  },
  {
   "cell_type": "code",
   "execution_count": 15,
   "metadata": {},
   "outputs": [
    {
     "data": {
      "text/plain": [
       "'adr'"
      ]
     },
     "execution_count": 15,
     "metadata": {},
     "output_type": "execute_result"
    }
   ],
   "source": [
    "a = 'adR'\n",
    "\n",
    "a.lower()"
   ]
  },
  {
   "cell_type": "code",
   "execution_count": null,
   "metadata": {},
   "outputs": [],
   "source": [
    "def solution(new_id):\n",
    "\n",
    "    special_char = '~!@#$%^&*()=+[{]}:?,<>/'\n",
    "    len_new_id = len(new_id)\n",
    "\n",
    "    id = ''\n",
    "    for i, v in enumerate(new_id):\n",
    "\n",
    "        if v not in special_char:\n",
    "            id.append(v)\n",
    "\n",
    "        # if new_id[i] == '.' and new_id[i+1] == '.':\n",
    "        #     id.append\n",
    "        # if i != 0 & v != '.':\n",
    "\n",
    "        # elif \n",
    "\n",
    "    return id \n",
    "\n",
    "\n"
   ]
  },
  {
   "cell_type": "code",
   "execution_count": 3,
   "metadata": {},
   "outputs": [
    {
     "name": "stdout",
     "output_type": "stream",
     "text": [
      "7\n",
      "9\n",
      "8\n",
      "14\n",
      "17\n",
      "2\n"
     ]
    }
   ],
   "source": [
    "def compress(text, tok_len):\n",
    "    words = [text[i:i+tok_len] for i in range(0, len(text), tok_len)]\n",
    "    res = []\n",
    "    cur_word = words[0]\n",
    "    cur_cnt = 1\n",
    "    for a, b in zip(words, words[1:] + ['']):\n",
    "        if a == b:\n",
    "            cur_cnt += 1\n",
    "        else:\n",
    "            res.append([cur_word, cur_cnt])\n",
    "            cur_word = b\n",
    "            cur_cnt = 1\n",
    "    return sum(len(word) + (len(str(cnt)) if cnt > 1 else 0) for word, cnt in res)\n",
    "\n",
    "def solution(text):\n",
    "    return min(compress(text, tok_len) for tok_len in list(range(1, int(len(text)/2) + 1)) + [len(text)])\n",
    "\n",
    "a = [\n",
    "    \"aabbaccc\",\n",
    "    \"ababcdcdababcdcd\",\n",
    "    \"abcabcdede\",\n",
    "    \"abcabcabcabcdededededede\",\n",
    "    \"xababcdcdababcdcd\",\n",
    "\n",
    "    'aaaaaa',\n",
    "]\n",
    "\n",
    "for x in a:\n",
    "    print(solution(x))"
   ]
  },
  {
   "cell_type": "code",
   "execution_count": 4,
   "metadata": {},
   "outputs": [
    {
     "data": {
      "text/plain": [
       "[1, 2, 3, 4, 8]"
      ]
     },
     "execution_count": 4,
     "metadata": {},
     "output_type": "execute_result"
    }
   ],
   "source": [
    "list(range(1, int(len('aabbaccc')/2) + 1)) + [len('aabbaccc')]"
   ]
  },
  {
   "cell_type": "code",
   "execution_count": 6,
   "metadata": {},
   "outputs": [
    {
     "name": "stdout",
     "output_type": "stream",
     "text": [
      "leo\n"
     ]
    }
   ],
   "source": [
    "def solution(participant, completion):\n",
    "    \n",
    "    answer = ''\n",
    "    \n",
    "    for p in participant:\n",
    "        \n",
    "        if p not in completion:\n",
    "            # answer.append(p) \n",
    "            answer = p\n",
    "            break\n",
    "        else:\n",
    "            completion.remove(p)\n",
    "    \n",
    "    return answer\n",
    "\n",
    "\n",
    "\n",
    "print(solution([\"leo\", \"kiki\", \"eden\"], [\"eden\", \"kiki\"]))\n"
   ]
  },
  {
   "cell_type": "code",
   "execution_count": 17,
   "metadata": {},
   "outputs": [
    {
     "name": "stdout",
     "output_type": "stream",
     "text": [
      "leo\n",
      "Counter({'leo': 1})\n",
      "['leo']\n"
     ]
    }
   ],
   "source": [
    "import collections\n",
    "\n",
    "\n",
    "def solution(participant, completion):\n",
    "    answer = collections.Counter(participant) - collections.Counter(completion)\n",
    "    return list(answer.keys())[0]\n",
    "\n",
    "\n",
    "print(solution([\"leo\", \"kiki\", \"eden\"], [\"eden\", \"kiki\"]))\n",
    "print(collections.Counter(collections.Counter([\"leo\", \"kiki\", \"eden\"]) - collections.Counter([\"eden\", \"kiki\"])))\n",
    "\n",
    "answer = collections.Counter(collections.Counter([\"leo\", \"kiki\", \"eden\"]) - collections.Counter([\"eden\", \"kiki\"]))\n",
    "print(list(answer.keys()))\n"
   ]
  },
  {
   "cell_type": "code",
   "execution_count": 24,
   "metadata": {},
   "outputs": [
    {
     "name": "stdout",
     "output_type": "stream",
     "text": [
      "head : 119\n",
      "p    : 1195524421\n",
      "head : 1195524421\n",
      "p    : 97674223\n",
      "head : 123\n",
      "p    : 456\n",
      "head : 456\n",
      "p    : 789\n",
      "head : 12\n",
      "p    : 123\n",
      "head : 123\n",
      "p    : 1235\n",
      "head : 1235\n",
      "p    : 567\n",
      "head : 567\n",
      "p    : 88\n"
     ]
    },
    {
     "data": {
      "text/plain": [
       "False"
      ]
     },
     "execution_count": 24,
     "metadata": {},
     "output_type": "execute_result"
    }
   ],
   "source": [
    "def solution(phone_book):\n",
    "\n",
    "    phone_book = sorted(phone_book)\n",
    "\n",
    "\n",
    "    answer = True\n",
    "    # head = phone_book[0]\n",
    "\n",
    "\n",
    "    for head, p in zip(phone_book, phone_book[1:]):\n",
    "\n",
    "        # if head in p:\n",
    "        #   answer = False\n",
    "        print(f\"head : {head}\") \n",
    "        print(f\"p    : {p}\")\n",
    "\n",
    "        if head == p[:len(head)]:\n",
    "            answer = False\n",
    "\n",
    "    return answer\n",
    "\n",
    "\n",
    "# def solution(phoneBook):\n",
    "#     phoneBook = sorted(phoneBook)\n",
    "\n",
    "#     for p1, p2 in zip(phoneBook, phoneBook[1:]):\n",
    "#         if p2.startswith(p1):\n",
    "#             return False\n",
    "#     return True\n",
    "\n",
    "\n",
    "\n",
    "solution([\"119\", \"97674223\", \"1195524421\"])\n",
    "solution([\"123\",\"456\",\"789\"]\t)\n",
    "solution([\"12\",\"123\",\"1235\",\"567\",\"88\"]\t)"
   ]
  },
  {
   "cell_type": "code",
   "execution_count": 49,
   "metadata": {},
   "outputs": [
    {
     "name": "stdout",
     "output_type": "stream",
     "text": [
      "5\n"
     ]
    }
   ],
   "source": [
    "from itertools import product\n",
    "from itertools import permutations\n",
    "from itertools import combinations\n",
    "from functools import reduce\n",
    "\n",
    "\n",
    "# clothes = [name, type]\n",
    "def solution1(clothes):\n",
    "\n",
    "    # comb = len(clothes)\n",
    "\n",
    "    for i in range(len(clothes)):\n",
    "        # print(list(combinations(clothes, i+1)))\n",
    "        c_list = list(combinations(clothes, i+1))\n",
    "\n",
    "        for c in c_list:\n",
    "            print(f\"c : {c}, type : {type(c)}\")\n",
    "\n",
    "\n",
    "    return 'done'\n",
    "\n",
    "\n",
    "def solution(c):\n",
    "    return reduce(lambda x,y:x*y,[a+1 for a in collections.Counter([x[1] for x in c]).values()])-1\n",
    "\n",
    "inputs = [[\"yellowhat\", \"headgear\"], [\"bluesunglasses\", \"eyewear\"], [\"green_turban\", \"headgear\"]]\t\n",
    "print(solution(inputs))"
   ]
  },
  {
   "cell_type": "code",
   "execution_count": 67,
   "metadata": {},
   "outputs": [
    {
     "name": "stdout",
     "output_type": "stream",
     "text": [
      "5\n",
      "4\n",
      "2\n"
     ]
    }
   ],
   "source": [
    "def solution(n, lost, reserve):\n",
    "    answer = 0\n",
    "\n",
    "    _reserve = [r for r in reserve if r not in lost]\n",
    "    _lost = [l for l in lost if l not in reserve]\n",
    "\n",
    "    for i in range(1, n+1):\n",
    "\n",
    "        if i in _lost:\n",
    "\n",
    "            if i not in _reserve:\n",
    "\n",
    "                if (i + 1) in _reserve:\n",
    "                    answer += 1\n",
    "                    _reserve.remove(i + 1)\n",
    "                elif (i - 1) in _reserve:\n",
    "                    answer += 1\n",
    "                    _reserve.remove(i - 1)\n",
    "\n",
    "        else:\n",
    "            answer += 1\n",
    "\n",
    "    return answer\n",
    "\n",
    "\n",
    "print(solution(5, [2, 4], [1, 3, 5]))\n",
    "print(solution(5, [2, 4], [3]))\n",
    "print(solution(3, [3], [1]))"
   ]
  },
  {
   "cell_type": "code",
   "execution_count": 90,
   "metadata": {},
   "outputs": [
    {
     "name": "stdout",
     "output_type": "stream",
     "text": [
      "13\n"
     ]
    }
   ],
   "source": [
    "def solution(name):\n",
    "    answer = 0\n",
    "\n",
    "    _max = 90 \n",
    "\n",
    "    for n in name:\n",
    "\n",
    "        char = 65\n",
    "\n",
    "        if (_max - ord(n)) < (ord(n) - char):\n",
    "            char = _max\n",
    "            _sum = -1 \n",
    "            answer += 1\n",
    "        else:\n",
    "            _sum = 1\n",
    "\n",
    "        while True:\n",
    "\n",
    "            if char == ord(n):\n",
    "                answer += 1\n",
    "                break\n",
    "            else:\n",
    "                char += _sum\n",
    "\n",
    "            answer += 1 \n",
    "        \n",
    "        \n",
    "    return answer\n",
    "\n",
    "print(solution('JAZ'))"
   ]
  }
 ],
 "metadata": {
  "interpreter": {
   "hash": "ddde1e1c6000e1d3034bec6257a8f68bed92c50866ae12a8382b98f1add9b5c2"
  },
  "kernelspec": {
   "display_name": "Python 3.9.5 64-bit",
   "name": "python3"
  },
  "language_info": {
   "codemirror_mode": {
    "name": "ipython",
    "version": 3
   },
   "file_extension": ".py",
   "mimetype": "text/x-python",
   "name": "python",
   "nbconvert_exporter": "python",
   "pygments_lexer": "ipython3",
   "version": "3.9.5"
  },
  "orig_nbformat": 4
 },
 "nbformat": 4,
 "nbformat_minor": 2
}
