{
 "cells": [
  {
   "cell_type": "code",
   "execution_count": 16,
   "metadata": {},
   "outputs": [],
   "source": [
    "import random "
   ]
  },
  {
   "cell_type": "code",
   "execution_count": 33,
   "metadata": {},
   "outputs": [],
   "source": [
    "def grid_cell(i_idx, j_idx):\n",
    "    num = 1\n",
    "    grids = [] \n",
    "    for i in range(i_idx):\n",
    "        grid = [] \n",
    "        for j in range(j_idx): \n",
    "            grid.append(num)\n",
    "            num += 1\n",
    "\n",
    "        grids.append(grid)\n",
    "\n",
    "    return grids\n",
    "\n"
   ]
  },
  {
   "cell_type": "code",
   "execution_count": 34,
   "metadata": {},
   "outputs": [
    {
     "data": {
      "text/plain": [
       "[[1, 2, 3], [4, 5, 6]]"
      ]
     },
     "execution_count": 34,
     "metadata": {},
     "output_type": "execute_result"
    }
   ],
   "source": [
    "x_axis = 2 \n",
    "y_axis = 3 \n",
    "grid = grid_cell(x_axis, y_axis) \n",
    "grid"
   ]
  },
  {
   "cell_type": "code",
   "execution_count": 37,
   "metadata": {},
   "outputs": [
    {
     "data": {
      "text/plain": [
       "[[0.25, 0.25, 0.25, 0.25, 0.25, 0.25],\n",
       " [0.25, 0.25, 0.25, 0.25, 0.25, 0.25],\n",
       " [0.25, 0.25, 0.25, 0.25, 0.25, 0.25],\n",
       " [0.25, 0.25, 0.25, 0.25, 0.25, 0.25]]"
      ]
     },
     "execution_count": 37,
     "metadata": {},
     "output_type": "execute_result"
    }
   ],
   "source": [
    "'''\n",
    "   L    R    U    D \n",
    "1 0.25 0.25 0.25 0.25\n",
    "2 0.25 0.25 0.25 0.25\n",
    "3 0.25 0.25 0.25 0.25\n",
    "4 0.25 0.25 0.25 0.25\n",
    "5 0.25 0.25 0.25 0.25\n",
    "6 0.25 0.25 0.25 0.25\n",
    "\n",
    "'''\n",
    "q_table = [[0.25 for _ in range(6)] for _ in range(4)]\n",
    "q_table"
   ]
  },
  {
   "cell_type": "code",
   "execution_count": 17,
   "metadata": {},
   "outputs": [],
   "source": [
    "# direction\n",
    "left = 1 \n",
    "right = 2\n",
    "up = 3 \n",
    "down = 4 \n",
    "\n",
    "penalty = -2\n",
    "gamma = 0.9 \n"
   ]
  },
  {
   "cell_type": "code",
   "execution_count": 30,
   "metadata": {},
   "outputs": [
    {
     "ename": "KeyboardInterrupt",
     "evalue": "",
     "output_type": "error",
     "traceback": [
      "\u001b[1;31m---------------------------------------------------------------------------\u001b[0m",
      "\u001b[1;31mKeyboardInterrupt\u001b[0m                         Traceback (most recent call last)",
      "\u001b[1;32m~\\AppData\\Local\\Temp/ipykernel_9568/1295404102.py\u001b[0m in \u001b[0;36m<module>\u001b[1;34m\u001b[0m\n\u001b[0;32m     15\u001b[0m \u001b[1;33m\u001b[0m\u001b[0m\n\u001b[0;32m     16\u001b[0m \u001b[1;33m\u001b[0m\u001b[0m\n\u001b[1;32m---> 17\u001b[1;33m     \u001b[0mscore\u001b[0m \u001b[1;33m+=\u001b[0m \u001b[0mreward\u001b[0m\u001b[1;33m\u001b[0m\u001b[1;33m\u001b[0m\u001b[0m\n\u001b[0m\u001b[0;32m     18\u001b[0m     \u001b[0mstep\u001b[0m \u001b[1;33m+=\u001b[0m \u001b[1;36m1\u001b[0m\u001b[1;33m\u001b[0m\u001b[1;33m\u001b[0m\u001b[0m\n\u001b[0;32m     19\u001b[0m \u001b[1;33m\u001b[0m\u001b[0m\n",
      "\u001b[1;31mKeyboardInterrupt\u001b[0m: "
     ]
    }
   ],
   "source": [
    "# Start point : (0, 0)\n",
    "# end point : (1 2)\n",
    "score = 0 \n",
    "step = 0 \n",
    "action = random.randint(1, 4) \n",
    "\n",
    "done = False\n",
    "\n",
    "# for _ in range(10):\n",
    "\n",
    "while True: \n",
    "\n",
    "    if action > x_axis:\n",
    "        reward = penalty\n",
    "    else:\n",
    "        reward = 0 \n",
    "\n",
    "    \n",
    "    score += reward\n",
    "    step += 1 \n",
    "\n",
    "\n",
    "    if done:\n",
    "        break\n",
    "\n",
    "\n"
   ]
  }
 ],
 "metadata": {
  "interpreter": {
   "hash": "2ad7f8df95050390ccef3c53b91cc5366ee05cbbc975f965dd0a4e5b2556ae66"
  },
  "kernelspec": {
   "display_name": "Python 3.9.6 64-bit",
   "language": "python",
   "name": "python3"
  },
  "language_info": {
   "codemirror_mode": {
    "name": "ipython",
    "version": 3
   },
   "file_extension": ".py",
   "mimetype": "text/x-python",
   "name": "python",
   "nbconvert_exporter": "python",
   "pygments_lexer": "ipython3",
   "version": "3.9.6"
  },
  "orig_nbformat": 4
 },
 "nbformat": 4,
 "nbformat_minor": 2
}
