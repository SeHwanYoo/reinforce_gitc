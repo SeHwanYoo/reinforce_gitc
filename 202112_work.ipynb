{
 "cells": [
  {
   "cell_type": "code",
   "execution_count": 6,
   "metadata": {},
   "outputs": [],
   "source": [
    "P = 0.25 \n",
    "R = -1"
   ]
  },
  {
   "cell_type": "code",
   "execution_count": 22,
   "metadata": {},
   "outputs": [],
   "source": [
    "# 0(s) 0   0   0\n",
    "# 0    0   0   0 (e)\n",
    "def make_grid_world():\n",
    "    return [[0, 0, 0, 0], [0, 0, 0, 0]]\n",
    "\n",
    "grid_world = make_grid_world()\n",
    "updated_grid_world = make_grid_world()\n",
    "    "
   ]
  },
  {
   "cell_type": "code",
   "execution_count": 23,
   "metadata": {},
   "outputs": [
    {
     "name": "stdout",
     "output_type": "stream",
     "text": [
      "[[-0.5, -0.5, -0.5, -0.5], [-0.5, -0.5, -0.5, -0.5]]\n",
      "[[-0.75, -0.75, -0.75, -0.75], [-0.75, -0.75, -0.75, -0.75]]\n",
      "[[-0.875, -0.875, -0.875, -0.875], [-0.875, -0.875, -0.875, -0.875]]\n",
      "[[-0.9375, -0.9375, -0.9375, -0.9375], [-0.9375, -0.9375, -0.9375, -0.9375]]\n",
      "[[-0.96875, -0.96875, -0.96875, -0.96875], [-0.96875, -0.96875, -0.96875, -0.96875]]\n",
      "[[-0.984375, -0.984375, -0.984375, -0.984375], [-0.984375, -0.984375, -0.984375, -0.984375]]\n",
      "[[-0.9921875, -0.9921875, -0.9921875, -0.9921875], [-0.9921875, -0.9921875, -0.9921875, -0.9921875]]\n",
      "[[-0.99609375, -0.99609375, -0.99609375, -0.99609375], [-0.99609375, -0.99609375, -0.99609375, -0.99609375]]\n",
      "[[-0.998046875, -0.998046875, -0.998046875, -0.998046875], [-0.998046875, -0.998046875, -0.998046875, -0.998046875]]\n",
      "[[-0.9990234375, -0.9990234375, -0.9990234375, -0.9990234375], [-0.9990234375, -0.9990234375, -0.9990234375, -0.9990234375]]\n"
     ]
    }
   ],
   "source": [
    "# print(make_grid_world())\n",
    "row_num = 2\n",
    "col_num = 4 \n",
    "\n",
    "for _ in range(10): \n",
    "    updated_grid_world = make_grid_world()\n",
    "    for row in range(row_num):\n",
    "        for col in range(col_num):\n",
    "            \n",
    "            # print(row)\n",
    "            # print(col) \n",
    "            updated_grid_world[row][col] = move_up(row, col) + move_down(row, col) + move_left(row, col) + move_right(row, col)\n",
    "        \n",
    "            # print(f\"up : {move_up(row, col)}\")\n",
    "            # print(f\"down : {move_down(row, col)}\")\n",
    "            # print(f\"left : {move_left(row, col)}\")\n",
    "            # print(f\"right : {move_right(row, col)}\")\n",
    "            \n",
    "    # print()\n",
    "    grid_world = updated_grid_world \n",
    "    print(grid_world)"
   ]
  },
  {
   "cell_type": "code",
   "execution_count": 19,
   "metadata": {},
   "outputs": [
    {
     "data": {
      "text/plain": [
       "-0.25"
      ]
     },
     "execution_count": 19,
     "metadata": {},
     "output_type": "execute_result"
    }
   ],
   "source": [
    "(-1 + 0) * 0.25 "
   ]
  },
  {
   "cell_type": "code",
   "execution_count": 14,
   "metadata": {},
   "outputs": [],
   "source": [
    "def move_up(row, col):\n",
    "    # return \n",
    "    if row - 1 < 0:\n",
    "        return 0 \n",
    "    else:\n",
    "        return P * (R + grid_world[row-1][col]) \n",
    "    \n",
    "def move_down(row, col):\n",
    "    # return \n",
    "    if row + 1 > 1:\n",
    "        return 0 \n",
    "    else:\n",
    "        return P * (R + grid_world[row+1][col]) \n",
    "    \n",
    "def move_left(row, col):\n",
    "    # return \n",
    "    if col - 1 < 0:\n",
    "        return 0 \n",
    "    else:\n",
    "        return P * (R + grid_world[row][col-1]) \n",
    "    \n",
    "def move_right(row, col):\n",
    "    # return \n",
    "    if col + 1 > 1:\n",
    "        return 0 \n",
    "    else:\n",
    "        return P * (R + grid_world[row][col+1]) \n",
    "    \n",
    "    \n",
    "    "
   ]
  },
  {
   "cell_type": "code",
   "execution_count": 4,
   "metadata": {},
   "outputs": [],
   "source": [
    "class GridWorld():\n",
    "    def __init__(self): \n",
    "        self.x = 0 \n",
    "        self.y = 0 \n",
    "\n",
    "    def step(self, action):\n",
    "        if action == 0:\n",
    "            self.move_right() \n",
    "        elif action == 1:\n",
    "            self.move_up()\n",
    "        elif action == 2:\n",
    "            self.move_up()\n",
    "        elif action == 3:\n",
    "            self.move_down()\n",
    "\n",
    "    "
   ]
  },
  {
   "cell_type": "code",
   "execution_count": null,
   "metadata": {},
   "outputs": [],
   "source": []
  }
 ],
 "metadata": {
  "interpreter": {
   "hash": "ddde1e1c6000e1d3034bec6257a8f68bed92c50866ae12a8382b98f1add9b5c2"
  },
  "kernelspec": {
   "display_name": "Python 3.9.5 64-bit",
   "name": "python3"
  },
  "language_info": {
   "codemirror_mode": {
    "name": "ipython",
    "version": 3
   },
   "file_extension": ".py",
   "mimetype": "text/x-python",
   "name": "python",
   "nbconvert_exporter": "python",
   "pygments_lexer": "ipython3",
   "version": "3.9.5"
  },
  "orig_nbformat": 4
 },
 "nbformat": 4,
 "nbformat_minor": 2
}
