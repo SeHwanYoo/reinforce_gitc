{
 "cells": [
  {
   "cell_type": "code",
   "execution_count": 1,
   "metadata": {},
   "outputs": [],
   "source": [
    "P = 0.25 \n",
    "R = -1"
   ]
  },
  {
   "cell_type": "code",
   "execution_count": 17,
   "metadata": {},
   "outputs": [],
   "source": [
    "# 0(s) 0   0   0\n",
    "# 0    0   0   0 (e)\n",
    "def make_grid_world():\n",
    "    return [[0, 0, 0, 0], [0, 0, 0, 0]]\n",
    "\n",
    "grid_world = make_grid_world()\n",
    "updated_grid_world = make_grid_world()\n",
    "\n",
    "row_num = 2\n",
    "col_num = 4 \n",
    "    "
   ]
  },
  {
   "cell_type": "code",
   "execution_count": 15,
   "metadata": {},
   "outputs": [],
   "source": [
    "def move_up(row, col):\n",
    "    # return \n",
    "    if row - 1 < 0:\n",
    "        return 0 \n",
    "    else:\n",
    "        return P * (R + grid_world[row-1][col]) \n",
    "    \n",
    "def move_down(row, col):\n",
    "    # return \n",
    "    if row + 1 == row_num:\n",
    "        return 0 \n",
    "    else:\n",
    "        return P * (R + grid_world[row+1][col]) \n",
    "    \n",
    "def move_left(row, col):\n",
    "    # return \n",
    "    if col - 1 < 0:\n",
    "        return 0 \n",
    "    else:\n",
    "        return P * (R + grid_world[row][col-1]) \n",
    "    \n",
    "def move_right(row, col):\n",
    "    # return \n",
    "    # 0, 1\n",
    "    if col + 1 == col_num:\n",
    "        return 0 \n",
    "    else:\n",
    "        return P * (R + grid_world[row][col+1]) \n",
    "    \n",
    "    \n",
    "    "
   ]
  },
  {
   "cell_type": "code",
   "execution_count": 18,
   "metadata": {},
   "outputs": [
    {
     "name": "stdout",
     "output_type": "stream",
     "text": [
      "[[-0.5, -0.75, -0.75, -0.5], [-0.5, -0.75, -0.75, -0.5]]\n",
      "[[-0.8125, -1.25, -1.25, -0.8125], [-0.8125, -1.25, -1.25, -0.8125]]\n",
      "[[-1.015625, -1.578125, -1.578125, -1.015625], [-1.015625, -1.578125, -1.578125, -1.015625]]\n",
      "[[-1.1484375, -1.79296875, -1.79296875, -1.1484375], [-1.1484375, -1.79296875, -1.79296875, -1.1484375]]\n",
      "[[-1.2353515625, -1.93359375, -1.93359375, -1.2353515625], [-1.2353515625, -1.93359375, -1.93359375, -1.2353515625]]\n",
      "[[-1.292236328125, -2.025634765625, -2.025634765625, -1.292236328125], [-1.292236328125, -2.025634765625, -2.025634765625, -1.292236328125]]\n",
      "[[-1.3294677734375, -2.08587646484375, -2.08587646484375, -1.3294677734375], [-1.3294677734375, -2.08587646484375, -2.08587646484375, -1.3294677734375]]\n",
      "[[-1.3538360595703125, -2.12530517578125, -2.12530517578125, -1.3538360595703125], [-1.3538360595703125, -2.12530517578125, -2.12530517578125, -1.3538360595703125]]\n",
      "[[-1.3697853088378906, -2.151111602783203, -2.151111602783203, -1.3697853088378906], [-1.3697853088378906, -2.151111602783203, -2.151111602783203, -1.3697853088378906]]\n",
      "[[-1.3802242279052734, -2.168002128601074, -2.168002128601074, -1.3802242279052734], [-1.3802242279052734, -2.168002128601074, -2.168002128601074, -1.3802242279052734]]\n"
     ]
    }
   ],
   "source": [
    "\n",
    "for _ in range(10): \n",
    "    updated_grid_world = make_grid_world()\n",
    "    for row in range(row_num):\n",
    "        for col in range(col_num):\n",
    "            \n",
    "            # print(row)\n",
    "            # print(col) \n",
    "            if row == row_num-1 and col == col_num-1:\n",
    "                # return 0 \n",
    "                updated_grid_world[row][col] = 0\n",
    "            else:\n",
    "                updated_grid_world[row][col] = move_up(row, col) + move_down(row, col) + move_left(row, col) + move_right(row, col)\n",
    "        \n",
    "            # print(f\"up : {move_up(row, col)}\")\n",
    "            # print(f\"down : {move_down(row, col)}\")\n",
    "            # print(f\"left : {move_left(row, col)}\")\n",
    "            # print(f\"right : {move_right(row, col)}\")\n",
    "            \n",
    "    # print()\n",
    "    grid_world = updated_grid_world \n",
    "    print(grid_world)"
   ]
  },
  {
   "cell_type": "code",
   "execution_count": 4,
   "metadata": {},
   "outputs": [],
   "source": [
    "class GridWorld():\n",
    "    def __init__(self): \n",
    "        self.x = 0 \n",
    "        self.y = 0 \n",
    "\n",
    "    def step(self, action):\n",
    "        if action == 0:\n",
    "            self.move_right() \n",
    "        elif action == 1:\n",
    "            self.move_up()\n",
    "        elif action == 2:\n",
    "            self.move_up()\n",
    "        elif action == 3:\n",
    "            self.move_down()\n",
    "\n",
    "    "
   ]
  },
  {
   "cell_type": "code",
   "execution_count": null,
   "metadata": {},
   "outputs": [],
   "source": []
  }
 ],
 "metadata": {
  "interpreter": {
   "hash": "ddde1e1c6000e1d3034bec6257a8f68bed92c50866ae12a8382b98f1add9b5c2"
  },
  "kernelspec": {
   "display_name": "Python 3.9.5 64-bit",
   "name": "python3"
  },
  "language_info": {
   "codemirror_mode": {
    "name": "ipython",
    "version": 3
   },
   "file_extension": ".py",
   "mimetype": "text/x-python",
   "name": "python",
   "nbconvert_exporter": "python",
   "pygments_lexer": "ipython3",
   "version": "3.9.6"
  },
  "orig_nbformat": 4
 },
 "nbformat": 4,
 "nbformat_minor": 2
}
