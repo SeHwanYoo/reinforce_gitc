{
 "cells": [
  {
   "cell_type": "code",
   "execution_count": 1,
   "metadata": {},
   "outputs": [],
   "source": [
    "P = 0.25 \n",
    "R = -1"
   ]
  },
  {
   "cell_type": "code",
   "execution_count": 20,
   "metadata": {},
   "outputs": [],
   "source": [
    "# 0(s) 0   0   0\n",
    "# 0    0   0   0 (e)\n",
    "def make_grid_world():\n",
    "    return [[0, 0, 0, 0], [0, 0, 0, 0]]\n",
    "\n",
    "grid_world = make_grid_world()\n",
    "updated_grid_world = make_grid_world()\n",
    "\n",
    "row_num = 2\n",
    "col_num = 4 \n",
    "    "
   ]
  },
  {
   "cell_type": "code",
   "execution_count": 15,
   "metadata": {},
   "outputs": [],
   "source": [
    "def move_up(row, col):\n",
    "    # return \n",
    "    if row - 1 < 0:\n",
    "        return 0 \n",
    "    else:\n",
    "        return P * (R + grid_world[row-1][col]) \n",
    "    \n",
    "def move_down(row, col):\n",
    "    # return \n",
    "    if row + 1 == row_num:\n",
    "        return 0 \n",
    "    else:\n",
    "        return P * (R + grid_world[row+1][col]) \n",
    "    \n",
    "def move_left(row, col):\n",
    "    # return \n",
    "    if col - 1 < 0:\n",
    "        return 0 \n",
    "    else:\n",
    "        return P * (R + grid_world[row][col-1]) \n",
    "    \n",
    "def move_right(row, col):\n",
    "    # return \n",
    "    # 0, 1\n",
    "    if col + 1 == col_num:\n",
    "        return 0 \n",
    "    else:\n",
    "        return P * (R + grid_world[row][col+1]) \n",
    "    \n",
    "    \n",
    "    "
   ]
  },
  {
   "cell_type": "code",
   "execution_count": 21,
   "metadata": {},
   "outputs": [
    {
     "name": "stdout",
     "output_type": "stream",
     "text": [
      "[[-0.5, -0.75, -0.75, -0.5], [-0.5, -0.75, -0.75, 0]]\n",
      "[[-0.8125, -1.25, -1.25, -0.6875], [-0.8125, -1.25, -1.125, 0]]\n",
      "[[-1.015625, -1.578125, -1.515625, -0.8125], [-1.015625, -1.546875, -1.375, 0]]\n",
      "[[-1.1484375, -1.76953125, -1.69140625, -0.87890625], [-1.140625, -1.7421875, -1.515625, 0]]\n",
      "[[-1.2275390625, -1.8955078125, -1.791015625, -0.9228515625], [-1.22265625, -1.8564453125, -1.6083984375, 0]]\n",
      "[[-1.279541015625, -1.96875, -1.856689453125, -0.94775390625], [-1.27099609375, -1.931640625, -1.661865234375, 0]]\n",
      "[[-1.3099365234375, -2.0169677734375, -1.89459228515625, -0.96417236328125], [-1.30279541015625, -1.97540283203125, -1.69708251953125, 0]]\n",
      "[[-1.3299407958984375, -2.04498291015625, -1.9195556640625, -0.9736480712890625], [-1.3213348388671875, -2.00421142578125, -1.717498779296875, 0]]\n",
      "[[-1.3415794372558594, -2.063426971435547, -1.9340324401855469, -0.979888916015625], [-1.3335380554199219, -2.020954132080078, -1.7309417724609375, 0]]\n",
      "[[-1.3492412567138672, -2.074141502380371, -1.9435644149780273, -0.9835081100463867], [-1.3406333923339844, -2.0319766998291016, -1.7387466430664062, 0]]\n"
     ]
    }
   ],
   "source": [
    "\n",
    "for _ in range(10): \n",
    "    updated_grid_world = make_grid_world()\n",
    "    for row in range(row_num):\n",
    "        for col in range(col_num):\n",
    "            \n",
    "            # print(row)\n",
    "            # print(col) \n",
    "            if row == row_num-1 and col == col_num-1:\n",
    "                # return 0 \n",
    "                updated_grid_world[row][col] = 0\n",
    "            else:\n",
    "                updated_grid_world[row][col] = move_up(row, col) + move_down(row, col) + move_left(row, col) + move_right(row, col)\n",
    "        \n",
    "            # print(f\"up : {move_up(row, col)}\")\n",
    "            # print(f\"down : {move_down(row, col)}\")\n",
    "            # print(f\"left : {move_left(row, col)}\")\n",
    "            # print(f\"right : {move_right(row, col)}\")\n",
    "            \n",
    "    # print()\n",
    "    grid_world = updated_grid_world \n",
    "    print(grid_world)"
   ]
  },
  {
   "cell_type": "code",
   "execution_count": 4,
   "metadata": {},
   "outputs": [],
   "source": [
    "class GridWorld():\n",
    "    def __init__(self): \n",
    "        self.x = 0 \n",
    "        self.y = 0 \n",
    "\n",
    "    def step(self, action):\n",
    "        if action == 0:\n",
    "            self.move_right() \n",
    "        elif action == 1:\n",
    "            self.move_up()\n",
    "        elif action == 2:\n",
    "            self.move_up()\n",
    "        elif action == 3:\n",
    "            self.move_down()\n",
    "\n",
    "    "
   ]
  },
  {
   "cell_type": "code",
   "execution_count": null,
   "metadata": {},
   "outputs": [],
   "source": []
  }
 ],
 "metadata": {
  "interpreter": {
   "hash": "ddde1e1c6000e1d3034bec6257a8f68bed92c50866ae12a8382b98f1add9b5c2"
  },
  "kernelspec": {
   "display_name": "Python 3.9.5 64-bit",
   "name": "python3"
  },
  "language_info": {
   "codemirror_mode": {
    "name": "ipython",
    "version": 3
   },
   "file_extension": ".py",
   "mimetype": "text/x-python",
   "name": "python",
   "nbconvert_exporter": "python",
   "pygments_lexer": "ipython3",
   "version": "3.9.6"
  },
  "orig_nbformat": 4
 },
 "nbformat": 4,
 "nbformat_minor": 2
}
